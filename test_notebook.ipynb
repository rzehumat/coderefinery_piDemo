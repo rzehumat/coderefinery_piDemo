{
 "cells": [
  {
   "cell_type": "markdown",
   "id": "a2a17b4b-824b-449a-8827-89dbc0e5a99f",
   "metadata": {},
   "source": [
    "## Second level heading\n",
    "\n",
    "This cell contains simple\n",
    "[markdown](https://daringfireball.net/projects/markdown/syntax), a simple language for writing text that can be automatically converted to other formats, e.g. HTML, LaTeX or any of a number of others.\n",
    "\n",
    "**Bold**, *italics*, **_combined_**, ~~strikethrough~~, `inline code`.\n",
    "\n",
    "* bullet points\n",
    "\n",
    "or\n",
    "\n",
    "1. numbered\n",
    "3. lists\n",
    "\n",
    "**Equations:**\n",
    "inline $e^{i\\pi} + 1 = 0$\n",
    "or on new line\n",
    "$$e^{i\\pi} + 1 = 0$$\n",
    "\n",
    "Images:\n",
    "\n",
    "![Jupyter logo](https://jupyter.org/assets/homepage/main-logo.svg)\n",
    "\n",
    "Links:\n",
    "[One of many markdown cheat-sheets](https://github.com/adam-p/markdown-here/wiki/Markdown-Cheatsheet#emphasis)"
   ]
  },
  {
   "cell_type": "code",
   "execution_count": 3,
   "id": "977a241e-4c7e-4c01-bb2f-d8dca6db7235",
   "metadata": {},
   "outputs": [
    {
     "name": "stdout",
     "output_type": "stream",
     "text": [
      "hello world\n"
     ]
    }
   ],
   "source": [
    "print(\"hello world\")"
   ]
  }
 ],
 "metadata": {
  "kernelspec": {
   "display_name": "Python 3 (ipykernel)",
   "language": "python",
   "name": "python3"
  },
  "language_info": {
   "codemirror_mode": {
    "name": "ipython",
    "version": 3
   },
   "file_extension": ".py",
   "mimetype": "text/x-python",
   "name": "python",
   "nbconvert_exporter": "python",
   "pygments_lexer": "ipython3",
   "version": "3.10.2"
  }
 },
 "nbformat": 4,
 "nbformat_minor": 5
}
