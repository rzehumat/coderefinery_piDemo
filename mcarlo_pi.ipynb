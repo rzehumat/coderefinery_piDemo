{
 "cells": [
  {
   "cell_type": "markdown",
   "id": "f285141f-5fdf-4a00-be64-8dc6b62f3b14",
   "metadata": {},
   "source": [
    "# Monte Carlo calculation of $\\pi$"
   ]
  },
  {
   "cell_type": "markdown",
   "id": "0d5fb23e-46ab-4d5b-9e57-2e3b6809c536",
   "metadata": {},
   "source": [
    "## Formulas\n",
    "\\begin{align}\n",
    "    S_{circle} &= \\pi r^2\\,,\\\\\n",
    "    S_{square} &= a^2\\\\\n",
    "\\end{align}\n",
    "Here we will have $a=1$, $r=a/2=0.5$, $S_{square} = 1$, $S_{circle} = 0.25\\pi$\n",
    "\n",
    "Therefore \n",
    "\\begin{align}\n",
    "    \\frac{S_{circle}}{S_{square}} &= \\pi r^2\\,,\\\\\n",
    "    \\pi &= \\frac{1}{r^2} \\frac{S_{circle}}{S_{square}}\\,.\n",
    "\\end{align}\n",
    "If we sample random numbers, \n",
    "    \\pi = \\frac{1}{r^2}\\lim_{N\\to\\infty}\\frac{n_{circle}}{N}\n"
   ]
  },
  {
   "cell_type": "code",
   "execution_count": 1,
   "id": "49d9c1f1-766d-436b-b5c2-adac37797999",
   "metadata": {},
   "outputs": [],
   "source": [
    "# important packages\n",
    "import numpy as np"
   ]
  },
  {
   "cell_type": "code",
   "execution_count": 5,
   "id": "1ca5e89e-9a01-47d8-b518-b161752d85b3",
   "metadata": {},
   "outputs": [],
   "source": [
    "N_points = int(1e8)\n",
    "r = 0.5\n",
    "x = 2*r*np.random.rand(N_points)-r\n",
    "y = 2*r*np.random.rand(N_points)-r\n",
    "\n",
    "hits = np.sum(np.power(x, 2) + np.power(y, 2) < r**2)"
   ]
  },
  {
   "cell_type": "code",
   "execution_count": 6,
   "id": "31711d94-657e-41a6-9a10-5247b748969a",
   "metadata": {},
   "outputs": [
    {
     "name": "stdout",
     "output_type": "stream",
     "text": [
      "pi is 3.14159412\n"
     ]
    }
   ],
   "source": [
    "print(f\"pi is {hits/(N_points*r**2)}\")"
   ]
  }
 ],
 "metadata": {
  "kernelspec": {
   "display_name": "Python 3 (ipykernel)",
   "language": "python",
   "name": "python3"
  },
  "language_info": {
   "codemirror_mode": {
    "name": "ipython",
    "version": 3
   },
   "file_extension": ".py",
   "mimetype": "text/x-python",
   "name": "python",
   "nbconvert_exporter": "python",
   "pygments_lexer": "ipython3",
   "version": "3.10.2"
  }
 },
 "nbformat": 4,
 "nbformat_minor": 5
}
