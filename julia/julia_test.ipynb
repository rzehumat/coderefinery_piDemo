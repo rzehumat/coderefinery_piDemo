{
 "cells": [
  {
   "cell_type": "code",
   "execution_count": 1,
   "id": "145a55fa",
   "metadata": {},
   "outputs": [
    {
     "name": "stderr",
     "output_type": "stream",
     "text": [
      "┌ Warning: Error requiring `IJulia` from `Plots`\n",
      "│   exception = (InterruptException(), Union{Ptr{Nothing}, Base.InterpreterIP}[Ptr{Nothing} @0x00007f652a59c367, Ptr{Nothing} @0x00007f652a5a1bf6, Ptr{Nothing} @0x00007f652a51fc0e, Ptr{Nothing} @0x00007f652a523e02, Ptr{Nothing} @0x00007f652a53d5f5, Ptr{Nothing} @0x00007f652a53d23f, Ptr{Nothing} @0x00007f652a53dc43, Ptr{Nothing} @0x00007f652a53eea7, Base.InterpreterIP in top-level CodeInfo for Plots at statement 6, Ptr{Nothing} @0x00007f652a55c129, Ptr{Nothing} @0x00007f652a55d3a0, Ptr{Nothing} @0x00007f650aa13f39, Ptr{Nothing} @0x00007f650aa13f6d, Ptr{Nothing} @0x00007f652a523e27, Ptr{Nothing} @0x00007f650aa13ba2, Ptr{Nothing} @0x00007f650aa13e7d, Ptr{Nothing} @0x00007f650aa13ead, Ptr{Nothing} @0x00007f652a523e27, Ptr{Nothing} @0x00007f650aa1342b, Ptr{Nothing} @0x00007f650aa136c4, Ptr{Nothing} @0x00007f650aa136fd, Ptr{Nothing} @0x00007f652a523e27, Ptr{Nothing} @0x00007f650a9ee98c, Ptr{Nothing} @0x00007f650aa1042b, Ptr{Nothing} @0x00007f650aa106cd, Ptr{Nothing} @0x00007f652a523e27, Ptr{Nothing} @0x00007f652a55b0d5, Ptr{Nothing} @0x00007f652a550acc, Ptr{Nothing} @0x00007f650a95c822, Ptr{Nothing} @0x00007f650a95ea7f, Ptr{Nothing} @0x00007f650a9658f9, Ptr{Nothing} @0x00007f650a967c98, Ptr{Nothing} @0x00007f650a968bcd, Ptr{Nothing} @0x00007f652a5242f2, Ptr{Nothing} @0x00007f652a55aa8a, Ptr{Nothing} @0x00007f652a55bea9, Ptr{Nothing} @0x00007f652a52e905, Ptr{Nothing} @0x00007f651c1836f3, Ptr{Nothing} @0x00007f650a9b2129, Ptr{Nothing} @0x00007f652a523e27, Ptr{Nothing} @0x00007f650a9aef71, Ptr{Nothing} @0x00007f652a523e27, Ptr{Nothing} @0x00007f652a5340d3, Ptr{Nothing} @0x00007f652a5349b1, Ptr{Nothing} @0x00007f650a9a05ef, Ptr{Nothing} @0x00007f650a9a082e, Ptr{Nothing} @0x00007f650a9a084c, Ptr{Nothing} @0x00007f652a523e27, Ptr{Nothing} @0x00007f652a54296e, Ptr{Nothing} @0x0000000000000000])\n",
      "└ @ Requires /home/matej/.julia/packages/Requires/7Ncym/src/require.jl:49\n"
     ]
    }
   ],
   "source": [
    "using Plots"
   ]
  },
  {
   "cell_type": "code",
   "execution_count": 2,
   "id": "277a02d4",
   "metadata": {},
   "outputs": [
    {
     "data": {
      "text/plain": [
       "5-element Array{Float64,1}:\n",
       " 0.0\n",
       " 0.0\n",
       " 0.0\n",
       " 0.0\n",
       " 0.0"
      ]
     },
     "execution_count": 2,
     "metadata": {},
     "output_type": "execute_result"
    }
   ],
   "source": [
    "a = zeros(5)"
   ]
  },
  {
   "cell_type": "code",
   "execution_count": 3,
   "id": "d7127999",
   "metadata": {},
   "outputs": [
    {
     "data": {
      "text/plain": [
       "20-element Array{Float64,1}:\n",
       " 0.0\n",
       " 0.0\n",
       " 0.0\n",
       " 0.0\n",
       " 0.0\n",
       " 0.0\n",
       " 0.0\n",
       " 0.0\n",
       " 0.0\n",
       " 0.0\n",
       " 0.0\n",
       " 0.0\n",
       " 0.0\n",
       " 0.0\n",
       " 0.0\n",
       " 0.0\n",
       " 0.0\n",
       " 0.0\n",
       " 0.0\n",
       " 0.0"
      ]
     },
     "execution_count": 3,
     "metadata": {},
     "output_type": "execute_result"
    }
   ],
   "source": [
    "b = zeros(20)"
   ]
  }
 ],
 "metadata": {
  "kernelspec": {
   "display_name": "Julia 1.5.3",
   "language": "julia",
   "name": "julia-1.5"
  },
  "language_info": {
   "file_extension": ".jl",
   "mimetype": "application/julia",
   "name": "julia",
   "version": "1.5.3"
  }
 },
 "nbformat": 4,
 "nbformat_minor": 5
}
